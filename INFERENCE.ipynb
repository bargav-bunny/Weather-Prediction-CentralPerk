{
 "cells": [
  {
   "cell_type": "code",
   "execution_count": null,
   "metadata": {},
   "outputs": [],
   "source": []
  },
  {
   "cell_type": "code",
   "execution_count": 16,
   "metadata": {},
   "outputs": [],
   "source": [
    "\n",
    "import urllib.request\n",
    "import pandas as pd\n",
    "import numpy as np\n",
    "import pickle\n",
    "\n",
    "import datetime\n",
    "\n",
    "api_key = \"API_KEY\"\n",
    "start_date = str(datetime.date.today() - datetime.timedelta(days = 5))\n",
    "end_date = str(datetime.date.today())\n",
    "\n"
   ]
  },
  {
   "cell_type": "code",
   "execution_count": 17,
   "metadata": {},
   "outputs": [
    {
     "data": {
      "text/plain": [
       "'2023-10-06'"
      ]
     },
     "execution_count": 17,
     "metadata": {},
     "output_type": "execute_result"
    }
   ],
   "source": [
    "start_date"
   ]
  },
  {
   "cell_type": "code",
   "execution_count": 18,
   "metadata": {},
   "outputs": [
    {
     "data": {
      "text/plain": [
       "'2023-10-11'"
      ]
     },
     "execution_count": 18,
     "metadata": {},
     "output_type": "execute_result"
    }
   ],
   "source": [
    "start_date\n",
    "end_date"
   ]
  },
  {
   "cell_type": "code",
   "execution_count": 19,
   "metadata": {},
   "outputs": [
    {
     "data": {
      "text/plain": [
       "('Data/infer_temp.csv', <http.client.HTTPMessage at 0x115989790>)"
      ]
     },
     "execution_count": 19,
     "metadata": {},
     "output_type": "execute_result"
    }
   ],
   "source": [
    "url = f'https://weather.visualcrossing.com/VisualCrossingWebServices/rest/services/timeline/Central%20Park%20New%20York/{start_date}/{end_date}?unitGroup=us&maxDistance=1000&include=hours&key={api_key}&elevationDifference=1&contentType=csv'\n",
    "destination = 'Data/infer_temp.csv'\n",
    "\n",
    "urllib.request.urlretrieve(url, destination)"
   ]
  },
  {
   "cell_type": "code",
   "execution_count": null,
   "metadata": {},
   "outputs": [],
   "source": []
  },
  {
   "cell_type": "code",
   "execution_count": 20,
   "metadata": {},
   "outputs": [],
   "source": [
    "df = pd.read_csv(destination)\n",
    "# df.head()"
   ]
  },
  {
   "cell_type": "code",
   "execution_count": null,
   "metadata": {},
   "outputs": [],
   "source": []
  },
  {
   "cell_type": "code",
   "execution_count": 34,
   "metadata": {},
   "outputs": [],
   "source": [
    "file = open(\"models/xgb_reg_final.pkl\",'rb')\n",
    "model = pickle.load(file)\n",
    "file.close()"
   ]
  },
  {
   "cell_type": "code",
   "execution_count": 43,
   "metadata": {},
   "outputs": [],
   "source": [
    "def give_max_pred(model, df):\n",
    "\n",
    "    df = df[['datetime', 'temp', 'precip', 'humidity', 'windspeed', 'sealevelpressure', 'winddir']]\n",
    "\n",
    "    df['datetime'] = pd.to_datetime(df['datetime'])\n",
    "\n",
    "    df['date'] = df['datetime'].dt.date\n",
    "\n",
    "    day_df_max = df.groupby('date')[['temp', 'precip', 'humidity', 'windspeed']].agg('max')\n",
    "    day_df_min = df.groupby('date')[['temp', 'precip', 'humidity', 'windspeed']].agg('min')\n",
    "\n",
    "    day_df_max['max_precip_prev1d'] = day_df_max['precip'].rolling(1).max()\n",
    "    day_df_max['max_precip_prev3d'] = day_df_max['precip'].rolling(3).max()\n",
    "    \n",
    "    day_df_max['max_temp_prev1d'] = day_df_max['temp'].rolling(1).max()\n",
    "    day_df_max['max_temp_prev3d'] = day_df_max['temp'].rolling(3).max()\n",
    "\n",
    "    day_df_max['min_precip_prev1d'] = day_df_min['precip'].rolling(1).min()\n",
    "    day_df_max['min_precip_prev3d'] = day_df_min['precip'].rolling(3).min()\n",
    "    \n",
    "    day_df_max['min_temp_prev1d'] = day_df_min['temp'].rolling(1).min()\n",
    "    day_df_max['min_temp_prev3d'] = day_df_min['temp'].rolling(3).min()\n",
    "\n",
    "    day_df_max.drop(['temp', 'precip', 'humidity', 'windspeed'], axis = 1, inplace = True)\n",
    "\n",
    "\n",
    "    df['day'] = df['datetime'].dt.day\n",
    "    df['month'] = df['datetime'].dt.month\n",
    "    df['hour'] = df['datetime'].dt.hour\n",
    "\n",
    "    df = pd.merge(df, day_df_max, on = 'date', how = 'left')\n",
    "\n",
    "    for i in range(1,24):\n",
    "        df[f'temp_lag_{i}'] = df['temp'].shift(i)\n",
    "\n",
    "    df = df.iloc[72:]\n",
    "\n",
    "    df.fillna(-1, inplace = True)\n",
    "\n",
    "    curr_hr = datetime.datetime.now().hour\n",
    "    curr_date = str(datetime.date.today())\n",
    "\n",
    "\n",
    "    df = df[~((df['date'] == pd.to_datetime(curr_date).date()) & (df['hour'] > curr_hr))]\n",
    "\n",
    "    df.drop(['datetime'], axis = 1, inplace = True)\n",
    "\n",
    "    X_test = df.drop(['date'], axis = 1)\n",
    "\n",
    "    y_pred = model.predict(X_test)\n",
    "\n",
    "    return y_pred[0]\n",
    "\n"
   ]
  },
  {
   "cell_type": "code",
   "execution_count": 44,
   "metadata": {},
   "outputs": [
    {
     "name": "stderr",
     "output_type": "stream",
     "text": [
      "/var/folders/x5/1285xgcd3vl1lvxv_nmsdqtc0000gn/T/ipykernel_973/881859357.py:5: SettingWithCopyWarning: \n",
      "A value is trying to be set on a copy of a slice from a DataFrame.\n",
      "Try using .loc[row_indexer,col_indexer] = value instead\n",
      "\n",
      "See the caveats in the documentation: https://pandas.pydata.org/pandas-docs/stable/user_guide/indexing.html#returning-a-view-versus-a-copy\n",
      "  df['datetime'] = pd.to_datetime(df['datetime'])\n",
      "/var/folders/x5/1285xgcd3vl1lvxv_nmsdqtc0000gn/T/ipykernel_973/881859357.py:7: SettingWithCopyWarning: \n",
      "A value is trying to be set on a copy of a slice from a DataFrame.\n",
      "Try using .loc[row_indexer,col_indexer] = value instead\n",
      "\n",
      "See the caveats in the documentation: https://pandas.pydata.org/pandas-docs/stable/user_guide/indexing.html#returning-a-view-versus-a-copy\n",
      "  df['date'] = df['datetime'].dt.date\n",
      "/var/folders/x5/1285xgcd3vl1lvxv_nmsdqtc0000gn/T/ipykernel_973/881859357.py:27: SettingWithCopyWarning: \n",
      "A value is trying to be set on a copy of a slice from a DataFrame.\n",
      "Try using .loc[row_indexer,col_indexer] = value instead\n",
      "\n",
      "See the caveats in the documentation: https://pandas.pydata.org/pandas-docs/stable/user_guide/indexing.html#returning-a-view-versus-a-copy\n",
      "  df['day'] = df['datetime'].dt.day\n",
      "/var/folders/x5/1285xgcd3vl1lvxv_nmsdqtc0000gn/T/ipykernel_973/881859357.py:28: SettingWithCopyWarning: \n",
      "A value is trying to be set on a copy of a slice from a DataFrame.\n",
      "Try using .loc[row_indexer,col_indexer] = value instead\n",
      "\n",
      "See the caveats in the documentation: https://pandas.pydata.org/pandas-docs/stable/user_guide/indexing.html#returning-a-view-versus-a-copy\n",
      "  df['month'] = df['datetime'].dt.month\n",
      "/var/folders/x5/1285xgcd3vl1lvxv_nmsdqtc0000gn/T/ipykernel_973/881859357.py:29: SettingWithCopyWarning: \n",
      "A value is trying to be set on a copy of a slice from a DataFrame.\n",
      "Try using .loc[row_indexer,col_indexer] = value instead\n",
      "\n",
      "See the caveats in the documentation: https://pandas.pydata.org/pandas-docs/stable/user_guide/indexing.html#returning-a-view-versus-a-copy\n",
      "  df['hour'] = df['datetime'].dt.hour\n"
     ]
    },
    {
     "data": {
      "text/plain": [
       "57.813698"
      ]
     },
     "execution_count": 44,
     "metadata": {},
     "output_type": "execute_result"
    }
   ],
   "source": [
    "give_max_pred(model, df)"
   ]
  },
  {
   "cell_type": "code",
   "execution_count": null,
   "metadata": {},
   "outputs": [],
   "source": []
  },
  {
   "cell_type": "code",
   "execution_count": null,
   "metadata": {},
   "outputs": [],
   "source": []
  },
  {
   "cell_type": "code",
   "execution_count": null,
   "metadata": {},
   "outputs": [],
   "source": []
  },
  {
   "cell_type": "code",
   "execution_count": null,
   "metadata": {},
   "outputs": [],
   "source": []
  },
  {
   "cell_type": "code",
   "execution_count": null,
   "metadata": {},
   "outputs": [],
   "source": []
  },
  {
   "cell_type": "code",
   "execution_count": null,
   "metadata": {},
   "outputs": [],
   "source": []
  },
  {
   "cell_type": "code",
   "execution_count": null,
   "metadata": {},
   "outputs": [],
   "source": []
  },
  {
   "cell_type": "code",
   "execution_count": null,
   "metadata": {},
   "outputs": [],
   "source": []
  }
 ],
 "metadata": {
  "kernelspec": {
   "display_name": "Python 3 (ipykernel)",
   "language": "python",
   "name": "python3"
  },
  "language_info": {
   "codemirror_mode": {
    "name": "ipython",
    "version": 3
   },
   "file_extension": ".py",
   "mimetype": "text/x-python",
   "name": "python",
   "nbconvert_exporter": "python",
   "pygments_lexer": "ipython3",
   "version": "3.11.5"
  }
 },
 "nbformat": 4,
 "nbformat_minor": 4
}
